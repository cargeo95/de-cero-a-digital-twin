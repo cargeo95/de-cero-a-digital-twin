{
  "nbformat": 4,
  "nbformat_minor": 0,
  "metadata": {
    "colab": {
      "provenance": []
    },
    "kernelspec": {
      "name": "python3",
      "display_name": "Python 3"
    },
    "language_info": {
      "name": "python"
    }
  },
  "cells": [
    {
      "cell_type": "markdown",
      "source": [
        "# **Los cuatro elementos de la programación**\n",
        "\n",
        "---\n",
        "\n"
      ],
      "metadata": {
        "id": "TJwRmkIfZI65"
      }
    },
    {
      "cell_type": "markdown",
      "source": [
        "\n",
        "## **Valores**\n",
        "\n"
      ],
      "metadata": {
        "id": "gUH8PyhcZyTM"
      }
    },
    {
      "cell_type": "code",
      "source": [
        "\"Estoy realizando mi primer código\""
      ],
      "metadata": {
        "id": "M9dXTyXLbBR2",
        "colab": {
          "base_uri": "https://localhost:8080/",
          "height": 35
        },
        "outputId": "65c3a399-9dd5-48e2-8918-d9259a901fe6"
      },
      "execution_count": null,
      "outputs": [
        {
          "output_type": "execute_result",
          "data": {
            "text/plain": [
              "'Estoy realizando mi primer código'"
            ],
            "application/vnd.google.colaboratory.intrinsic+json": {
              "type": "string"
            }
          },
          "metadata": {},
          "execution_count": 1
        }
      ]
    },
    {
      "cell_type": "markdown",
      "source": [
        "\n",
        "## **Variables**\n"
      ],
      "metadata": {
        "id": "PiCMGldsbUIZ"
      }
    },
    {
      "cell_type": "code",
      "source": [
        "b = \"Mi segunda línea de código\"\n",
        "print(b)"
      ],
      "metadata": {
        "id": "MLnItIzwcQp3",
        "colab": {
          "base_uri": "https://localhost:8080/"
        },
        "outputId": "496a602d-067b-4274-d681-990897614779"
      },
      "execution_count": null,
      "outputs": [
        {
          "output_type": "stream",
          "name": "stdout",
          "text": [
            "Mi segunda línea de código\n"
          ]
        }
      ]
    },
    {
      "cell_type": "code",
      "source": [
        "a = 5\n",
        "print(a)"
      ],
      "metadata": {
        "id": "nChxa07AcOOy",
        "colab": {
          "base_uri": "https://localhost:8080/"
        },
        "outputId": "9f8f1b19-e335-4744-def7-1e51452ebb1c"
      },
      "execution_count": null,
      "outputs": [
        {
          "output_type": "stream",
          "name": "stdout",
          "text": [
            "5\n"
          ]
        }
      ]
    },
    {
      "cell_type": "markdown",
      "source": [
        "\n",
        "## **Funciones**\n",
        "\n"
      ],
      "metadata": {
        "id": "t07f3RTOfcbJ"
      }
    },
    {
      "cell_type": "code",
      "source": [
        "type(b)"
      ],
      "metadata": {
        "id": "5ikC5hVEixjt",
        "colab": {
          "base_uri": "https://localhost:8080/"
        },
        "outputId": "facf2fc9-9f1a-4398-d494-8284725733be"
      },
      "execution_count": null,
      "outputs": [
        {
          "output_type": "execute_result",
          "data": {
            "text/plain": [
              "str"
            ]
          },
          "metadata": {},
          "execution_count": 4
        }
      ]
    },
    {
      "cell_type": "code",
      "source": [
        "print(c)"
      ],
      "metadata": {
        "id": "M8LarYCKiPB9",
        "colab": {
          "base_uri": "https://localhost:8080/",
          "height": 141
        },
        "outputId": "916ba6d1-f896-40fa-9ad5-1cec66d433fc"
      },
      "execution_count": null,
      "outputs": [
        {
          "output_type": "error",
          "ename": "NameError",
          "evalue": "name 'c' is not defined",
          "traceback": [
            "\u001b[0;31m---------------------------------------------------------------------------\u001b[0m",
            "\u001b[0;31mNameError\u001b[0m                                 Traceback (most recent call last)",
            "\u001b[0;32m<ipython-input-5-1dd5973cae19>\u001b[0m in \u001b[0;36m<cell line: 1>\u001b[0;34m()\u001b[0m\n\u001b[0;32m----> 1\u001b[0;31m \u001b[0mprint\u001b[0m\u001b[0;34m(\u001b[0m\u001b[0mc\u001b[0m\u001b[0;34m)\u001b[0m\u001b[0;34m\u001b[0m\u001b[0;34m\u001b[0m\u001b[0m\n\u001b[0m",
            "\u001b[0;31mNameError\u001b[0m: name 'c' is not defined"
          ]
        }
      ]
    },
    {
      "cell_type": "markdown",
      "source": [
        "**Ejemplo 1**"
      ],
      "metadata": {
        "id": "COCegoUps2G_"
      }
    },
    {
      "cell_type": "code",
      "source": [
        "c = 5\n",
        "print(c)\n",
        "type(c)"
      ],
      "metadata": {
        "id": "6Whu6qYJizFF",
        "colab": {
          "base_uri": "https://localhost:8080/"
        },
        "outputId": "948d496b-cffa-43dc-8f24-02b0c83e9528"
      },
      "execution_count": null,
      "outputs": [
        {
          "output_type": "stream",
          "name": "stdout",
          "text": [
            "5\n"
          ]
        },
        {
          "output_type": "execute_result",
          "data": {
            "text/plain": [
              "int"
            ]
          },
          "metadata": {},
          "execution_count": 48
        }
      ]
    },
    {
      "cell_type": "markdown",
      "source": [
        "**Ejemplo 2**"
      ],
      "metadata": {
        "id": "8bNa77xws33F"
      }
    },
    {
      "cell_type": "code",
      "source": [
        "w = input(\"¿Cuál es tu nombre? \")\n",
        "x = input(\"¿Cuál es tu edad? \")\n",
        "z = input(\"¿Qué estas estudiando? \")\n",
        "\n",
        "print(\"---------------------\")\n",
        "print(w)\n",
        "print(x)\n",
        "print(z)\n"
      ],
      "metadata": {
        "id": "oL40X8o6jz9-",
        "colab": {
          "base_uri": "https://localhost:8080/"
        },
        "outputId": "e87a2a6d-727e-419e-fe47-ad323d7e6b80"
      },
      "execution_count": null,
      "outputs": [
        {
          "output_type": "stream",
          "name": "stdout",
          "text": [
            "¿Cuál es tu nombre? 2\n",
            "¿Cuál es tu edad? 2\n",
            "¿Qué estas estudiando? 2\n",
            "---------------------\n",
            "2\n",
            "2\n",
            "2\n"
          ]
        }
      ]
    },
    {
      "cell_type": "markdown",
      "source": [
        "## **Operaciones**\n"
      ],
      "metadata": {
        "id": "bVC_wQ6JlAnr"
      }
    },
    {
      "cell_type": "markdown",
      "source": [
        "**Ejemplo 2.3**"
      ],
      "metadata": {
        "id": "8E-b4gw2tDUo"
      }
    },
    {
      "cell_type": "code",
      "source": [
        "a = 10\n",
        "b = 20\n",
        "c = a *2\n",
        "d = a /2\n",
        "e = a + b\n",
        "f = a**2\n",
        "print(c)\n",
        "print(d)\n",
        "print(e)\n",
        "print(\"el resultado de la operas : \" + str(f))\n"
      ],
      "metadata": {
        "id": "5NyO5SRUlrlS",
        "colab": {
          "base_uri": "https://localhost:8080/"
        },
        "outputId": "3b6f0e88-7fbd-4e61-a35a-4a5837ffb32d"
      },
      "execution_count": null,
      "outputs": [
        {
          "output_type": "stream",
          "name": "stdout",
          "text": [
            "20\n",
            "5.0\n",
            "30\n",
            "el resultado de la operas : 100\n"
          ]
        }
      ]
    },
    {
      "cell_type": "markdown",
      "source": [
        "**Ejemplo 2.4**"
      ],
      "metadata": {
        "id": "izr_pkI2t0Hk"
      }
    },
    {
      "cell_type": "code",
      "source": [
        "a = 4\n",
        "print(a)\n",
        "type(a)"
      ],
      "metadata": {
        "id": "RjwIxMyRpnEk",
        "colab": {
          "base_uri": "https://localhost:8080/"
        },
        "outputId": "60c86bb7-b5a0-42f7-93f6-bddfd84d095b"
      },
      "execution_count": null,
      "outputs": [
        {
          "output_type": "stream",
          "name": "stdout",
          "text": [
            "4\n"
          ]
        },
        {
          "output_type": "execute_result",
          "data": {
            "text/plain": [
              "int"
            ]
          },
          "metadata": {},
          "execution_count": 51
        }
      ]
    },
    {
      "cell_type": "code",
      "source": [
        "a = \"soy un texto\"\n",
        "print(a)\n",
        "type(a)"
      ],
      "metadata": {
        "id": "GsSOs5Ccpud_",
        "colab": {
          "base_uri": "https://localhost:8080/"
        },
        "outputId": "947f0fcc-f428-4f3e-b064-c30c1a6a347f"
      },
      "execution_count": null,
      "outputs": [
        {
          "output_type": "stream",
          "name": "stdout",
          "text": [
            "soy un texto\n"
          ]
        },
        {
          "output_type": "execute_result",
          "data": {
            "text/plain": [
              "str"
            ]
          },
          "metadata": {},
          "execution_count": 52
        }
      ]
    },
    {
      "cell_type": "markdown",
      "source": [
        "**Comentarios**"
      ],
      "metadata": {
        "id": "lGzTFWBWeLs0"
      }
    },
    {
      "cell_type": "code",
      "source": [
        "#soy un comentario y no afecto el código\n",
        "#Que debe ser escrito por cáda línea de código\n",
        "\n",
        "\n",
        "\"\"\"soy un comentario\n",
        "que está escrito en varías líneas\n",
        "y no afecto a la estructura del código\n",
        "\"\"\"\n"
      ],
      "metadata": {
        "id": "bQ5Az-mgqIH0",
        "colab": {
          "base_uri": "https://localhost:8080/",
          "height": 36
        },
        "outputId": "5658d76f-f339-4520-bbca-a65639997549"
      },
      "execution_count": null,
      "outputs": [
        {
          "output_type": "execute_result",
          "data": {
            "text/plain": [
              "'soy un comentario\\nque está escrito en varías líneas\\ny no afecto a la estructura del código\\n'"
            ],
            "application/vnd.google.colaboratory.intrinsic+json": {
              "type": "string"
            }
          },
          "metadata": {},
          "execution_count": 53
        }
      ]
    },
    {
      "cell_type": "markdown",
      "source": [
        "**Ejemplo 2.5**"
      ],
      "metadata": {
        "id": "3JOcaG3muDBY"
      }
    },
    {
      "cell_type": "code",
      "source": [
        "lado_1 = input(\"ingrese el lado 1: \") #se captura lado 1\n",
        "lado_2 = input(\"ingrese el lado 2: \") #se captura lado 2\n",
        "area = lado_1 * lado_2                #se realiza la operación entre lado 1 y lado 2\n",
        "print(\"el área es\", area)             #se muestra el resultado"
      ],
      "metadata": {
        "id": "zTlt_r7vMns5",
        "colab": {
          "base_uri": "https://localhost:8080/",
          "height": 238
        },
        "outputId": "a797a9d3-b694-4388-abe5-0b885bf31f63"
      },
      "execution_count": null,
      "outputs": [
        {
          "name": "stdout",
          "output_type": "stream",
          "text": [
            "ingrese el lado 1: 2\n",
            "ingrese el lado 2: 2\n"
          ]
        },
        {
          "output_type": "error",
          "ename": "TypeError",
          "evalue": "can't multiply sequence by non-int of type 'str'",
          "traceback": [
            "\u001b[0;31m---------------------------------------------------------------------------\u001b[0m",
            "\u001b[0;31mTypeError\u001b[0m                                 Traceback (most recent call last)",
            "\u001b[0;32m<ipython-input-54-39b5fb682e15>\u001b[0m in \u001b[0;36m<cell line: 3>\u001b[0;34m()\u001b[0m\n\u001b[1;32m      1\u001b[0m \u001b[0mlado_1\u001b[0m \u001b[0;34m=\u001b[0m \u001b[0minput\u001b[0m\u001b[0;34m(\u001b[0m\u001b[0;34m\"ingrese el lado 1: \"\u001b[0m\u001b[0;34m)\u001b[0m \u001b[0;31m#se captura lado 1\u001b[0m\u001b[0;34m\u001b[0m\u001b[0;34m\u001b[0m\u001b[0m\n\u001b[1;32m      2\u001b[0m \u001b[0mlado_2\u001b[0m \u001b[0;34m=\u001b[0m \u001b[0minput\u001b[0m\u001b[0;34m(\u001b[0m\u001b[0;34m\"ingrese el lado 2: \"\u001b[0m\u001b[0;34m)\u001b[0m\u001b[0;34m\u001b[0m\u001b[0;34m\u001b[0m\u001b[0m\n\u001b[0;32m----> 3\u001b[0;31m \u001b[0marea\u001b[0m \u001b[0;34m=\u001b[0m \u001b[0mlado_1\u001b[0m \u001b[0;34m*\u001b[0m \u001b[0mlado_2\u001b[0m\u001b[0;34m\u001b[0m\u001b[0;34m\u001b[0m\u001b[0m\n\u001b[0m\u001b[1;32m      4\u001b[0m \u001b[0mprint\u001b[0m\u001b[0;34m(\u001b[0m\u001b[0;34m\"el área es\"\u001b[0m\u001b[0;34m,\u001b[0m \u001b[0marea\u001b[0m\u001b[0;34m)\u001b[0m\u001b[0;34m\u001b[0m\u001b[0;34m\u001b[0m\u001b[0m\n",
            "\u001b[0;31mTypeError\u001b[0m: can't multiply sequence by non-int of type 'str'"
          ]
        }
      ]
    },
    {
      "cell_type": "code",
      "source": [
        "type(lado_1)2\n"
      ],
      "metadata": {
        "id": "JUy5LUjHNGN9",
        "colab": {
          "base_uri": "https://localhost:8080/"
        },
        "outputId": "fe90479d-c5ea-4322-8d05-93c9c87ff759"
      },
      "execution_count": null,
      "outputs": [
        {
          "output_type": "execute_result",
          "data": {
            "text/plain": [
              "str"
            ]
          },
          "metadata": {},
          "execution_count": 55
        }
      ]
    },
    {
      "cell_type": "code",
      "source": [
        "lado_1 = int(input(\"ingrese el lado 1: \"))  #se captura lado 1\n",
        "lado_2 = int(input(\"ingrese el lado 2: \"))  #se captura lado 2\n",
        "area = lado_1 * lado_2                      #se realiza la operación entre lado 1 y lado 2\n",
        "print(\"el área es\", area)                   #se muestra el resultado"
      ],
      "metadata": {
        "id": "4s5YK-roudz6",
        "colab": {
          "base_uri": "https://localhost:8080/"
        },
        "outputId": "aeebae43-8dfd-4115-efe3-f86bb2b5502f"
      },
      "execution_count": null,
      "outputs": [
        {
          "output_type": "stream",
          "name": "stdout",
          "text": [
            "ingrese el lado 1: 2\n",
            "ingrese el lado 2: 2\n",
            "el área es 4\n"
          ]
        }
      ]
    },
    {
      "cell_type": "markdown",
      "source": [
        "**Ejemplo 2.6**"
      ],
      "metadata": {
        "id": "B52JyIiVugEA"
      }
    },
    {
      "cell_type": "code",
      "source": [
        "import numpy as np  #Se importa la libreria\n",
        "a = 36              #Se crea una variable\n",
        "b = np.sqrt(a)      #Se calcula la raíz cuadrada de “a”\n",
        "print(b)            #Se imprime el resultado"
      ],
      "metadata": {
        "id": "_yeeJ-X6Aw9V",
        "colab": {
          "base_uri": "https://localhost:8080/"
        },
        "outputId": "bdbe1fce-a52c-40a2-ca7c-bb35d72cc40f"
      },
      "execution_count": null,
      "outputs": [
        {
          "output_type": "stream",
          "name": "stdout",
          "text": [
            "6.0\n"
          ]
        }
      ]
    },
    {
      "cell_type": "markdown",
      "source": [
        "**Ejemplo 2.7**"
      ],
      "metadata": {
        "id": "3uEehk-HutFh"
      }
    },
    {
      "cell_type": "code",
      "source": [
        "from sympy import * #Se importa la librería\n",
        "x = symbols('x')    #Se define una variable simbólica \"x\"\n",
        "integrate(x**2)     #Se realiza la integral"
      ],
      "metadata": {
        "id": "oAEKXaAzux7x",
        "colab": {
          "base_uri": "https://localhost:8080/",
          "height": 54
        },
        "outputId": "37a5b3f3-7e0f-4c4d-d0df-558f7773d82c"
      },
      "execution_count": null,
      "outputs": [
        {
          "output_type": "execute_result",
          "data": {
            "text/plain": [
              "x**3/3"
            ],
            "text/latex": "$\\displaystyle \\frac{x^{3}}{3}$"
          },
          "metadata": {},
          "execution_count": 59
        }
      ]
    },
    {
      "cell_type": "code",
      "source": [
        "integrate(((1/pi)*x*sin(x)), (x,-pi,pi)) #se realiza la integral definida"
      ],
      "metadata": {
        "id": "4Odj47N9u_iH",
        "colab": {
          "base_uri": "https://localhost:8080/",
          "height": 37
        },
        "outputId": "c1958391-3f4b-4f94-9cc5-977da50c5b1c"
      },
      "execution_count": null,
      "outputs": [
        {
          "output_type": "execute_result",
          "data": {
            "text/plain": [
              "2"
            ],
            "text/latex": "$\\displaystyle 2$"
          },
          "metadata": {},
          "execution_count": 60
        }
      ]
    },
    {
      "cell_type": "markdown",
      "source": [
        "# **Estructuras de control**\n"
      ],
      "metadata": {
        "id": "B0DRmx7uAUh-"
      }
    },
    {
      "cell_type": "code",
      "source": [
        "print(10>9) #10 es mayor que 9"
      ],
      "metadata": {
        "colab": {
          "base_uri": "https://localhost:8080/"
        },
        "id": "p2ILlrVYAXLE",
        "outputId": "c1f9f1dd-4bc6-461d-fad5-dc398addc363"
      },
      "execution_count": null,
      "outputs": [
        {
          "output_type": "stream",
          "name": "stdout",
          "text": [
            "True\n"
          ]
        }
      ]
    },
    {
      "cell_type": "code",
      "source": [
        "print(10 == 9) #10 es igual que 9"
      ],
      "metadata": {
        "colab": {
          "base_uri": "https://localhost:8080/"
        },
        "id": "PJQyenpZAYAC",
        "outputId": "b8945b59-41ec-4775-b110-2298e5062cc5"
      },
      "execution_count": null,
      "outputs": [
        {
          "output_type": "stream",
          "name": "stdout",
          "text": [
            "False\n"
          ]
        }
      ]
    },
    {
      "cell_type": "code",
      "source": [
        "print(10 <9) #10 es menor que 9"
      ],
      "metadata": {
        "colab": {
          "base_uri": "https://localhost:8080/"
        },
        "id": "-c27jAOHAYpF",
        "outputId": "f2beb7e1-4e98-4ee7-b763-0cb71d5cf9c0"
      },
      "execution_count": null,
      "outputs": [
        {
          "output_type": "stream",
          "name": "stdout",
          "text": [
            "False\n"
          ]
        }
      ]
    },
    {
      "cell_type": "markdown",
      "source": [
        "# **Condicionales**"
      ],
      "metadata": {
        "id": "cXWxdPZJAZrJ"
      }
    },
    {
      "cell_type": "markdown",
      "source": [
        "**Ejemplo 2.8**"
      ],
      "metadata": {
        "id": "1QIP17wVAd_1"
      }
    },
    {
      "cell_type": "code",
      "source": [
        "a = 200                     #ingrese valor a\n",
        "b = 33                      #ingrese valor b\n",
        "if b < a:                   #si b es menor que a\n",
        "  print(\"b es menor que a\") #imprime el mensaje"
      ],
      "metadata": {
        "colab": {
          "base_uri": "https://localhost:8080/"
        },
        "id": "reGo4hZ2AgWH",
        "outputId": "6505738a-d20a-49ee-8621-8d14c7990e19"
      },
      "execution_count": null,
      "outputs": [
        {
          "output_type": "stream",
          "name": "stdout",
          "text": [
            "b es menor que a\n"
          ]
        }
      ]
    },
    {
      "cell_type": "markdown",
      "source": [
        "**Ejemplo 2.9**"
      ],
      "metadata": {
        "id": "9Tz_I9ASAhBZ"
      }
    },
    {
      "cell_type": "code",
      "source": [
        "a = 200                         #ingrese valor a\n",
        "b = 33                          #ingrese valor b\n",
        "if b < a:                       #si b es menor que a\n",
        "  print(\"b es menor que a\")     #imprime el mensaje\n",
        "else:                           #si no\n",
        "  print(\"b no es menor que a\")  #imprime el mensaje"
      ],
      "metadata": {
        "colab": {
          "base_uri": "https://localhost:8080/"
        },
        "id": "_f8avAqVAint",
        "outputId": "f934a661-18aa-4254-f4e6-8bba4966e83e"
      },
      "execution_count": null,
      "outputs": [
        {
          "output_type": "stream",
          "name": "stdout",
          "text": [
            "b es menor que a\n"
          ]
        }
      ]
    },
    {
      "cell_type": "markdown",
      "source": [
        "**Ejemplo 2.10**"
      ],
      "metadata": {
        "id": "WmHIab58AkxW"
      }
    },
    {
      "cell_type": "code",
      "source": [
        "a = 200                           #ingrese valor a\n",
        "b = 33                            #ingrese valor b\n",
        "c = 200                           #ingrese valor c\n",
        "if a != c:                        #si a es diferente que c\n",
        "  print(\"a es diferente que c\")   #imprime el mensaje\n",
        "elif a > b:                       #si a es mayor que b\n",
        "  print(\"a es mayor que b\")       #imprime el mensaje\n",
        "elif a < b:                       #si a es menor que b\n",
        "  print(\"a es menor que b\")       #imprime el mensaje\n",
        "else:                             #si no\n",
        "  print(\"Ni idea que es a\")       #imprime el mensaje"
      ],
      "metadata": {
        "colab": {
          "base_uri": "https://localhost:8080/"
        },
        "id": "MPHYpuOnAndB",
        "outputId": "b68651d3-4e3a-4ac6-c4f3-3bd516188e82"
      },
      "execution_count": null,
      "outputs": [
        {
          "output_type": "stream",
          "name": "stdout",
          "text": [
            "Ni idea que es a\n"
          ]
        }
      ]
    },
    {
      "cell_type": "markdown",
      "source": [
        "**Ejemplo 2.11**"
      ],
      "metadata": {
        "id": "Hj9VRt_tAooK"
      }
    },
    {
      "cell_type": "code",
      "source": [
        "a = 200                         #ingrese valor a\n",
        "b = 33                          #ingrese valor b\n",
        "c = 200                         #ingrese valor c\n",
        "if a > b:                       #si a es mayor que b\n",
        "  print(\"a es mayor que b\")     #imprime el mensaje\n",
        "if b < a:                       #si b es menor que a\n",
        "  print(\"b es menor que a\")     #imprime el mensaje\n",
        "if c == a:                      #si c es igual a\n",
        "  print(\"c es igual b\")         #imprime el mensaje\n",
        "if a != b:                      #si a es diferente que b\n",
        "  print(\"b es diferente que a\") #imprime el mensaje"
      ],
      "metadata": {
        "colab": {
          "base_uri": "https://localhost:8080/"
        },
        "id": "X-Hrd3RRAqXH",
        "outputId": "5529715c-d63a-4cff-e3e4-1c33cbdee87d"
      },
      "execution_count": null,
      "outputs": [
        {
          "output_type": "stream",
          "name": "stdout",
          "text": [
            "b es menor que a\n",
            "c es igual b\n",
            "b es diferente que a\n"
          ]
        }
      ]
    },
    {
      "cell_type": "markdown",
      "source": [
        "**Ejemplo 2.12**"
      ],
      "metadata": {
        "id": "auOPRUqKAtoQ"
      }
    },
    {
      "cell_type": "code",
      "source": [
        "a = 200                                  #ingrese valor a\n",
        "b = 33                                   #ingrese valor b\n",
        "c = 500                                  #ingrese valor c\n",
        "if a < b and c < a:                      #si a es menor que b y c es menor que a:\n",
        "  print(\"Ambas condiciones son verdad\")  #imprime el mensaje"
      ],
      "metadata": {
        "colab": {
          "base_uri": "https://localhost:8080/"
        },
        "id": "VkwjEpwMAurW",
        "outputId": "c4189e41-d848-44ee-84a9-f0e03d79a355"
      },
      "execution_count": null,
      "outputs": [
        {
          "output_type": "stream",
          "name": "stdout",
          "text": [
            "Una de las dos condiciones es falsa\n"
          ]
        }
      ]
    },
    {
      "cell_type": "markdown",
      "source": [
        "**Ejemplo 2.13**"
      ],
      "metadata": {
        "id": "mit3XHcRAwT5"
      }
    },
    {
      "cell_type": "code",
      "source": [
        "a = 200                           #ingrese valor a\n",
        "b = 33                            #ingrese valor b\n",
        "c = 500                           #ingrese valor c\n",
        "if a > b or a > c:                #si a es mayor que b o a es mayor que c:\n",
        "  print(\"Al menos una es verdad\") #imprime el mensaje"
      ],
      "metadata": {
        "colab": {
          "base_uri": "https://localhost:8080/"
        },
        "id": "uFrOwXHXAxqS",
        "outputId": "9778ebb3-0e00-4ee7-9922-781409aaa428"
      },
      "execution_count": null,
      "outputs": [
        {
          "output_type": "stream",
          "name": "stdout",
          "text": [
            "Al menos una es verdad\n"
          ]
        }
      ]
    },
    {
      "cell_type": "markdown",
      "source": [
        "# **While**"
      ],
      "metadata": {
        "id": "6Fi5K4u7AyzE"
      }
    },
    {
      "cell_type": "markdown",
      "source": [
        "**Ejemplo 2.14**"
      ],
      "metadata": {
        "id": "smlZX1PoAz6n"
      }
    },
    {
      "cell_type": "code",
      "source": [
        "x = 1         #se asigna valor 1\n",
        "while x <=6:  #mientras x sea menor o igual a 6\n",
        "  print(x)    #imprime el valor de x\n",
        "  x += 1      #se suma 1 al valor de x"
      ],
      "metadata": {
        "colab": {
          "base_uri": "https://localhost:8080/"
        },
        "id": "cDSdH2EWA1gC",
        "outputId": "3ea64cd6-154e-4a7f-c5b2-e2d369428a55"
      },
      "execution_count": null,
      "outputs": [
        {
          "output_type": "stream",
          "name": "stdout",
          "text": [
            "1\n",
            "2\n",
            "3\n",
            "4\n",
            "5\n",
            "6\n"
          ]
        }
      ]
    },
    {
      "cell_type": "markdown",
      "source": [
        "**Ejemplo 2.15**"
      ],
      "metadata": {
        "id": "JPtF662-A2uS"
      }
    },
    {
      "cell_type": "code",
      "source": [
        "i = 0                 #se asigna valor 0\n",
        "while i < 6:          #mientras i sea menor a 6\n",
        "  i += 1              #se suma 1 al valor de i\n",
        "  print(i)            #imprime el valor de i\n",
        "  if i == 3:          #si i es igual a 3\n",
        "    print(\"funciona\") #imprime el mensaje\n",
        "    break             #termina el ciclo"
      ],
      "metadata": {
        "colab": {
          "base_uri": "https://localhost:8080/"
        },
        "id": "srxgMTuNA30H",
        "outputId": "2e19d1eb-6ded-4e7d-ffa5-21d96fb89394"
      },
      "execution_count": null,
      "outputs": [
        {
          "output_type": "stream",
          "name": "stdout",
          "text": [
            "1\n",
            "2\n",
            "3\n",
            "funciona\n"
          ]
        }
      ]
    },
    {
      "cell_type": "markdown",
      "source": [
        "# **FOR**"
      ],
      "metadata": {
        "id": "64b7BpwqA4z0"
      }
    },
    {
      "cell_type": "markdown",
      "source": [
        "**Ejemplo 2.16**"
      ],
      "metadata": {
        "id": "HCIoanI5A8UF"
      }
    },
    {
      "cell_type": "code",
      "source": [
        "nombres = [\"Juan\", \"María\", \"Carlos\", \"Ana\"] #se crea una lista\n",
        "for i in nombres:                            #se recorre la lista\n",
        "    print(i)                                 #se imprime el nombre"
      ],
      "metadata": {
        "colab": {
          "base_uri": "https://localhost:8080/"
        },
        "id": "QoP1rzo8A9oG",
        "outputId": "bfa2948b-bfaf-49e7-dda8-04b82563f886"
      },
      "execution_count": null,
      "outputs": [
        {
          "output_type": "stream",
          "name": "stdout",
          "text": [
            "Juan\n",
            "María\n",
            "Carlos\n",
            "Ana\n"
          ]
        }
      ]
    },
    {
      "cell_type": "code",
      "source": [
        "for x in range(6): #se recorre el rango de 0 a 6\n",
        "  print(x)         #se imprime el valor de x"
      ],
      "metadata": {
        "colab": {
          "base_uri": "https://localhost:8080/"
        },
        "id": "639ZtLLFA_JS",
        "outputId": "4c0af650-b47d-43d1-ad2f-2946f800eaa8"
      },
      "execution_count": null,
      "outputs": [
        {
          "output_type": "stream",
          "name": "stdout",
          "text": [
            "0\n",
            "1\n",
            "2\n",
            "3\n",
            "4\n",
            "5\n"
          ]
        }
      ]
    },
    {
      "cell_type": "markdown",
      "source": [
        "# **List**"
      ],
      "metadata": {
        "id": "Z6fSqVRHBApu"
      }
    },
    {
      "cell_type": "code",
      "source": [
        "frutas = [\"manzana\", \"banano\", \"cereza\"] #se crea una lista\n",
        "print(frutas)                            #se imprime la lista\n",
        "len(frutas)                              #se imprime la longitud"
      ],
      "metadata": {
        "colab": {
          "base_uri": "https://localhost:8080/"
        },
        "id": "jEAPY5dRBC8u",
        "outputId": "b8ae4b4c-7ae6-4f88-f185-535f12809937"
      },
      "execution_count": null,
      "outputs": [
        {
          "output_type": "stream",
          "name": "stdout",
          "text": [
            "['manzana', 'banano', 'cereza']\n"
          ]
        },
        {
          "output_type": "execute_result",
          "data": {
            "text/plain": [
              "3"
            ]
          },
          "metadata": {},
          "execution_count": 76
        }
      ]
    },
    {
      "cell_type": "code",
      "source": [
        "print(frutas[0]) #se imprime el primer elemento de la lista"
      ],
      "metadata": {
        "colab": {
          "base_uri": "https://localhost:8080/"
        },
        "id": "Q2FG8uu0BD29",
        "outputId": "a00b0585-073a-4744-d9af-1a67045d1c33"
      },
      "execution_count": null,
      "outputs": [
        {
          "output_type": "stream",
          "name": "stdout",
          "text": [
            "manzana\n"
          ]
        }
      ]
    },
    {
      "cell_type": "code",
      "source": [
        "list1 = [\"abc\", 34, True, 40, \"male\"] #lista con diferentes tipos\n",
        "type(list1)                           #se imprime el tipo de dato"
      ],
      "metadata": {
        "colab": {
          "base_uri": "https://localhost:8080/"
        },
        "id": "2GHDPZwNBEpt",
        "outputId": "d704ea51-fb8b-42c0-926e-e9a185b3d1b2"
      },
      "execution_count": null,
      "outputs": [
        {
          "output_type": "execute_result",
          "data": {
            "text/plain": [
              "list"
            ]
          },
          "metadata": {},
          "execution_count": 78
        }
      ]
    },
    {
      "cell_type": "markdown",
      "source": [
        "# **Diccionario**"
      ],
      "metadata": {
        "id": "_72xHyhrBFdF"
      }
    },
    {
      "cell_type": "code",
      "source": [
        "diccionario = { #se crea un diccionario\n",
        "  \"marca\": \"Ford\",\n",
        "  \"electrico\": False,\n",
        "  \"year\": 1964,\n",
        "  \"color\": [\"rojo\", \"blanco\", \"azul\"]\n",
        "}\n",
        "type(diccionario) #se imprime el tipo de dato"
      ],
      "metadata": {
        "colab": {
          "base_uri": "https://localhost:8080/"
        },
        "id": "sBLQZzDXBHDa",
        "outputId": "81a4696b-e0a9-4f69-b9fb-dc7667e24443"
      },
      "execution_count": null,
      "outputs": [
        {
          "output_type": "execute_result",
          "data": {
            "text/plain": [
              "dict"
            ]
          },
          "metadata": {},
          "execution_count": 79
        }
      ]
    },
    {
      "cell_type": "code",
      "source": [
        "print(diccionario[\"marca\"]) #se imprime el valor de la clave \"marca\""
      ],
      "metadata": {
        "colab": {
          "base_uri": "https://localhost:8080/"
        },
        "id": "jlOB8WeEBH0N",
        "outputId": "6135c783-3a7a-41ce-dac9-49417abfdd95"
      },
      "execution_count": null,
      "outputs": [
        {
          "output_type": "stream",
          "name": "stdout",
          "text": [
            "Ford\n"
          ]
        }
      ]
    },
    {
      "cell_type": "code",
      "source": [
        "print(diccionario[\"color\"][0]) #se imprime el valor de la clave \"color\""
      ],
      "metadata": {
        "colab": {
          "base_uri": "https://localhost:8080/"
        },
        "id": "_MgXuoVQBIjO",
        "outputId": "aabc918a-9608-4d73-a2df-ce39371c1d7f"
      },
      "execution_count": null,
      "outputs": [
        {
          "output_type": "stream",
          "name": "stdout",
          "text": [
            "rojo\n"
          ]
        }
      ]
    },
    {
      "cell_type": "code",
      "source": [
        "paises = {                                      #se crea un diccionario\n",
        "    \"Argentina\": \"Buenos Aires\",\n",
        "    \"Brasil\": \"Brasilia\",\n",
        "    \"Chile\": \"Santiago\",\n",
        "    \"Colombia\": \"Bogotá\",\n",
        "    \"Ecuador\": \"Quito\"\n",
        "}\n",
        "\n",
        "for i, j in paises.items():            #se recorre el diccionario\n",
        "    print(f\"La capital de {i} es {j}\") #se imprime"
      ],
      "metadata": {
        "colab": {
          "base_uri": "https://localhost:8080/"
        },
        "id": "3wa4x0TOBKlJ",
        "outputId": "6c350540-77ea-441f-bd00-1620bfd6adda"
      },
      "execution_count": null,
      "outputs": [
        {
          "output_type": "stream",
          "name": "stdout",
          "text": [
            "La capital de Argentina es Buenos Aires\n",
            "La capital de Brasil es Brasilia\n",
            "La capital de Chile es Santiago\n",
            "La capital de Colombia es Bogotá\n",
            "La capital de Ecuador es Quito\n"
          ]
        }
      ]
    },
    {
      "cell_type": "markdown",
      "source": [
        "# **Funciones**"
      ],
      "metadata": {
        "id": "Ce_BK7sgBLaM"
      }
    },
    {
      "cell_type": "code",
      "source": [
        "def my_function():          #Se crea la función\n",
        "  print(\"Soy una función\")  #Se imprime el mensaje\n",
        "my_function()               #Se llama la función"
      ],
      "metadata": {
        "colab": {
          "base_uri": "https://localhost:8080/"
        },
        "id": "PDPGpXWvBM85",
        "outputId": "ef9c9004-050f-4754-9ebc-17cfdce1422b"
      },
      "execution_count": null,
      "outputs": [
        {
          "output_type": "stream",
          "name": "stdout",
          "text": [
            "Soy una función\n"
          ]
        }
      ]
    },
    {
      "cell_type": "code",
      "source": [
        "def my_function(nombre):         #Se crea la función\n",
        "  print(nombre + \" Texto extra\") #Se imprime el mensaje\n",
        "my_function(\"Carlos\")            #Se llama la función"
      ],
      "metadata": {
        "colab": {
          "base_uri": "https://localhost:8080/"
        },
        "id": "jQLP9c_oBN4F",
        "outputId": "531f326c-7ba1-40a3-cb0b-a30b8d1f455b"
      },
      "execution_count": null,
      "outputs": [
        {
          "output_type": "stream",
          "name": "stdout",
          "text": [
            "Carlos Texto extra\n"
          ]
        }
      ]
    },
    {
      "cell_type": "code",
      "source": [
        "def my_function(nombre, apellido):  #Se crea la función\n",
        "  print(nombre + \" \" + apellido)    #Se imprime el mensaje\n",
        "my_function(\"Carlos\", \"Gómez\")      #Se llama la función"
      ],
      "metadata": {
        "colab": {
          "base_uri": "https://localhost:8080/"
        },
        "id": "Xmm5EwjlBO40",
        "outputId": "89eb8174-f2da-4aea-dc12-e73f1e7aeff5"
      },
      "execution_count": null,
      "outputs": [
        {
          "output_type": "stream",
          "name": "stdout",
          "text": [
            "Carlos Gómez\n"
          ]
        }
      ]
    },
    {
      "cell_type": "code",
      "source": [
        "def my_function(nombre, apellido,edad):\n",
        "  print(nombre + \" \" + apellido,\" y su edad es \",str(edad))\n",
        "my_function(\"Carlos\", \"Gómez\",28)"
      ],
      "metadata": {
        "colab": {
          "base_uri": "https://localhost:8080/"
        },
        "id": "4LO8nkm4BPda",
        "outputId": "7dcf203e-574d-4362-ff67-03adf43ba0b1"
      },
      "execution_count": null,
      "outputs": [
        {
          "output_type": "stream",
          "name": "stdout",
          "text": [
            "Carlos Gómez  y su edad es  27\n"
          ]
        }
      ]
    },
    {
      "cell_type": "code",
      "source": [
        "def my_function(nombre, apellido, edad):\n",
        "  print(nombre + \" \" + apellido,\" y su edad es \",str(edad))\n",
        "my_function(edad = 28, apellido = \"Gomez\", nombre = \"Carlos\")"
      ],
      "metadata": {
        "colab": {
          "base_uri": "https://localhost:8080/"
        },
        "id": "FbW4_Kz9BQKD",
        "outputId": "3af9e0fc-1a18-46ad-a28c-4b6107489262"
      },
      "execution_count": null,
      "outputs": [
        {
          "output_type": "stream",
          "name": "stdout",
          "text": [
            "Carlos Gomez  y su edad es  27\n"
          ]
        }
      ]
    }
  ]
}